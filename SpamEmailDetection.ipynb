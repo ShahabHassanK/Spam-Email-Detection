{
 "cells": [
  {
   "cell_type": "code",
   "execution_count": 1,
   "id": "154a5ece-915e-4eb0-8112-fc90a4822315",
   "metadata": {},
   "outputs": [
    {
     "name": "stderr",
     "output_type": "stream",
     "text": [
      "[nltk_data] Downloading package stopwords to C:\\Users\\Irha\n",
      "[nltk_data]     traders\\AppData\\Roaming\\nltk_data...\n",
      "[nltk_data]   Unzipping corpora\\stopwords.zip.\n",
      "[nltk_data] Downloading package wordnet to C:\\Users\\Irha\n",
      "[nltk_data]     traders\\AppData\\Roaming\\nltk_data...\n"
     ]
    },
    {
     "data": {
      "text/plain": [
       "True"
      ]
     },
     "execution_count": 1,
     "metadata": {},
     "output_type": "execute_result"
    }
   ],
   "source": [
    "import pandas as pd\n",
    "import numpy as np\n",
    "from sklearn.model_selection import train_test_split\n",
    "from sklearn.feature_extraction.text import CountVectorizer, TfidfTransformer\n",
    "from sklearn.naive_bayes import MultinomialNB\n",
    "from sklearn.tree import DecisionTreeClassifier\n",
    "from sklearn.metrics import confusion_matrix, accuracy_score, precision_score, recall_score, f1_score\n",
    "import nltk\n",
    "from nltk.corpus import stopwords\n",
    "from nltk.stem import WordNetLemmatizer\n",
    "import string\n",
    "\n",
    "nltk.download('stopwords')\n",
    "nltk.download('wordnet')"
   ]
  },
  {
   "cell_type": "code",
   "execution_count": 2,
   "id": "b198c253-d07a-492c-b3eb-ebd0cec493c0",
   "metadata": {},
   "outputs": [
    {
     "data": {
      "text/html": [
       "<div>\n",
       "<style scoped>\n",
       "    .dataframe tbody tr th:only-of-type {\n",
       "        vertical-align: middle;\n",
       "    }\n",
       "\n",
       "    .dataframe tbody tr th {\n",
       "        vertical-align: top;\n",
       "    }\n",
       "\n",
       "    .dataframe thead th {\n",
       "        text-align: right;\n",
       "    }\n",
       "</style>\n",
       "<table border=\"1\" class=\"dataframe\">\n",
       "  <thead>\n",
       "    <tr style=\"text-align: right;\">\n",
       "      <th></th>\n",
       "      <th>text</th>\n",
       "      <th>target</th>\n",
       "    </tr>\n",
       "  </thead>\n",
       "  <tbody>\n",
       "    <tr>\n",
       "      <th>0</th>\n",
       "      <td>ilugadminlinuxie mon jul 29 112802 2002 return...</td>\n",
       "      <td>0</td>\n",
       "    </tr>\n",
       "    <tr>\n",
       "      <th>1</th>\n",
       "      <td>gort44excitecom mon jun 24 175421 2002 returnp...</td>\n",
       "      <td>1</td>\n",
       "    </tr>\n",
       "    <tr>\n",
       "      <th>2</th>\n",
       "      <td>forkadminxentcom mon jul 29 113957 2002 return...</td>\n",
       "      <td>1</td>\n",
       "    </tr>\n",
       "    <tr>\n",
       "      <th>3</th>\n",
       "      <td>dcm123btamailnetcn mon jun 24 174923 2002 retu...</td>\n",
       "      <td>1</td>\n",
       "    </tr>\n",
       "    <tr>\n",
       "      <th>4</th>\n",
       "      <td>ilugadminlinuxie mon aug 19 110247 2002 return...</td>\n",
       "      <td>0</td>\n",
       "    </tr>\n",
       "    <tr>\n",
       "      <th>...</th>\n",
       "      <td>...</td>\n",
       "      <td>...</td>\n",
       "    </tr>\n",
       "    <tr>\n",
       "      <th>5791</th>\n",
       "      <td>ilugadminlinuxie mon jul 22 181245 2002 return...</td>\n",
       "      <td>0</td>\n",
       "    </tr>\n",
       "    <tr>\n",
       "      <th>5792</th>\n",
       "      <td>forkadminxentcom mon oct 7 203702 2002 returnp...</td>\n",
       "      <td>0</td>\n",
       "    </tr>\n",
       "    <tr>\n",
       "      <th>5793</th>\n",
       "      <td>received hqpronsnet localhost 127001 hqpronsne...</td>\n",
       "      <td>1</td>\n",
       "    </tr>\n",
       "    <tr>\n",
       "      <th>5794</th>\n",
       "      <td>razorusersadminlistssourceforgenet thu sep 12 ...</td>\n",
       "      <td>0</td>\n",
       "    </tr>\n",
       "    <tr>\n",
       "      <th>5795</th>\n",
       "      <td>rssfeedsjmasonorg mon sep 30 134410 2002 retur...</td>\n",
       "      <td>0</td>\n",
       "    </tr>\n",
       "  </tbody>\n",
       "</table>\n",
       "<p>5796 rows × 2 columns</p>\n",
       "</div>"
      ],
      "text/plain": [
       "                                                   text  target\n",
       "0     ilugadminlinuxie mon jul 29 112802 2002 return...       0\n",
       "1     gort44excitecom mon jun 24 175421 2002 returnp...       1\n",
       "2     forkadminxentcom mon jul 29 113957 2002 return...       1\n",
       "3     dcm123btamailnetcn mon jun 24 174923 2002 retu...       1\n",
       "4     ilugadminlinuxie mon aug 19 110247 2002 return...       0\n",
       "...                                                 ...     ...\n",
       "5791  ilugadminlinuxie mon jul 22 181245 2002 return...       0\n",
       "5792  forkadminxentcom mon oct 7 203702 2002 returnp...       0\n",
       "5793  received hqpronsnet localhost 127001 hqpronsne...       1\n",
       "5794  razorusersadminlistssourceforgenet thu sep 12 ...       0\n",
       "5795  rssfeedsjmasonorg mon sep 30 134410 2002 retur...       0\n",
       "\n",
       "[5796 rows x 2 columns]"
      ]
     },
     "execution_count": 2,
     "metadata": {},
     "output_type": "execute_result"
    }
   ],
   "source": [
    "#1: Data Collection\n",
    "df = pd.read_csv('email_dataset.csv')\n",
    "#2: Pre-processing\n",
    "def preprocess_text(text):\n",
    "    text = text.lower()\n",
    "    text = text.translate(str.maketrans('','',string.punctuation))\n",
    "    words = text.split()\n",
    "    stop_words = set(stopwords.words('english'))\n",
    "    words = [word for word in words if word not in stop_words]\n",
    "    lemmatizer = WordNetLemmatizer()\n",
    "    words = [lemmatizer.lemmatize(word) for word in words]\n",
    "    return ' '.join(words)\n",
    "df['text'] = df['text'].apply(preprocess_text)\n",
    "df"
   ]
  },
  {
   "cell_type": "code",
   "execution_count": 4,
   "id": "a18cd621-db1e-418a-8e1b-1cd7e70c93f3",
   "metadata": {},
   "outputs": [],
   "source": [
    "#3: Feature selection\n",
    "X = df['text']\n",
    "y = df['target']\n",
    "X_train, X_test, y_train, y_test = train_test_split(X, y, test_size = 0.3, random_state = 42)\n",
    "vectorizer = CountVectorizer()\n",
    "X_train_counts = vectorizer.fit_transform(X_train)\n",
    "tfidf_transformer = TfidfTransformer()\n",
    "X_train_tfidf = tfidf_transformer.fit_transform(X_train_counts)\n",
    "X_test_counts = vectorizer.transform(X_test)\n",
    "X_test_tfidf = tfidf_transformer.transform(X_test_counts)"
   ]
  },
  {
   "cell_type": "code",
   "execution_count": 8,
   "id": "9316d9b2-e767-4a75-9c39-fe992cbc2377",
   "metadata": {},
   "outputs": [],
   "source": [
    "#4: Applying Spam Filter Algorithms\n",
    "\n",
    "#NAIVE BAYES MODEL\n",
    "nb_model = MultinomialNB()\n",
    "nb_model.fit(X_train_tfidf, y_train)\n",
    "nb_predictions = nb_model.predict(X_test_tfidf)\n",
    "\n",
    "#DECISION TREE MODEL\n",
    "dt_model = DecisionTreeClassifier()\n",
    "dt_model.fit(X_train_tfidf, y_train)\n",
    "dt_predictions = dt_model.predict(X_test_tfidf)\n",
    "\n",
    "#Evaluating Accuracies\n",
    "#evaluation function\n",
    "def evaluate_model(y_actual, y_pred):\n",
    "    accuracy = accuracy_score(y_actual, y_pred)\n",
    "    precision = precision_score(y_actual, y_pred, pos_label=1)\n",
    "    recall = recall_score(y_actual, y_pred, pos_label=1)\n",
    "    f1 = f1_score(y_actual, y_pred, pos_label=1)\n",
    "    conf_matrix = confusion_matrix(y_actual, y_pred)\n",
    "    return accuracy, precision, recall, f1, conf_matrix"
   ]
  },
  {
   "cell_type": "code",
   "execution_count": 9,
   "id": "0c875458-3b49-4635-8e83-a0645a97bf63",
   "metadata": {},
   "outputs": [
    {
     "name": "stdout",
     "output_type": "stream",
     "text": [
      "Naive Bayes Accuracy: 0.9252443933294997\n",
      "Naive Bayes Precision: 1.0\n",
      "Naive Bayes Recall: 0.7707231040564374\n",
      "Naive Bayes F1 Score: 0.8705179282868526\n",
      "Naive Bayes Confusion Matrix:\n",
      "[[1172    0]\n",
      " [ 130  437]]\n"
     ]
    }
   ],
   "source": [
    "#Evaluating Algorithms and Comparing\n",
    "\n",
    "#Evaluate Naive Bayes\n",
    "nb_accuracy, nb_precision, nb_recall, nb_f1, nb_conf_matrix = evaluate_model(y_test, nb_predictions)\n",
    "print(f\"Naive Bayes Accuracy: {nb_accuracy}\")\n",
    "print(f\"Naive Bayes Precision: {nb_precision}\")\n",
    "print(f\"Naive Bayes Recall: {nb_recall}\")\n",
    "print(f\"Naive Bayes F1 Score: {nb_f1}\")\n",
    "print(f\"Naive Bayes Confusion Matrix:\\n{nb_conf_matrix}\")"
   ]
  },
  {
   "cell_type": "code",
   "execution_count": 10,
   "id": "86cb8f20-e9e9-4460-b45a-47322348fcf1",
   "metadata": {},
   "outputs": [
    {
     "name": "stdout",
     "output_type": "stream",
     "text": [
      "Naive Bayes Accuracy: 0.9764232317423807\n",
      "Naive Bayes Precision: 0.9764492753623188\n",
      "Naive Bayes Recall: 0.9506172839506173\n",
      "Naive Bayes F1 Score: 0.9633601429848079\n",
      "Naive Bayes Confusion Matrix:\n",
      "[[1159   13]\n",
      " [  28  539]]\n"
     ]
    }
   ],
   "source": [
    "#Evaluating Decision Tree\n",
    "dt_accuracy, dt_precision, dt_recall, dt_f1, dt_conf_matrix = evaluate_model(y_test, dt_predictions)\n",
    "print(f\"Naive Bayes Accuracy: {dt_accuracy}\")\n",
    "print(f\"Naive Bayes Precision: {dt_precision}\")\n",
    "print(f\"Naive Bayes Recall: {dt_recall}\")\n",
    "print(f\"Naive Bayes F1 Score: {dt_f1}\")\n",
    "print(f\"Naive Bayes Confusion Matrix:\\n{dt_conf_matrix}\")"
   ]
  },
  {
   "cell_type": "code",
   "execution_count": null,
   "id": "33448696-a7b1-454f-88b9-ac33939b91b1",
   "metadata": {},
   "outputs": [],
   "source": []
  }
 ],
 "metadata": {
  "kernelspec": {
   "display_name": "Python 3 (ipykernel)",
   "language": "python",
   "name": "python3"
  },
  "language_info": {
   "codemirror_mode": {
    "name": "ipython",
    "version": 3
   },
   "file_extension": ".py",
   "mimetype": "text/x-python",
   "name": "python",
   "nbconvert_exporter": "python",
   "pygments_lexer": "ipython3",
   "version": "3.12.1"
  }
 },
 "nbformat": 4,
 "nbformat_minor": 5
}
